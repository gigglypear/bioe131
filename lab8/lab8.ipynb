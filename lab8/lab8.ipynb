{
 "cells": [
  {
   "cell_type": "markdown",
   "metadata": {},
   "source": [
    "# BioE 131 Lab 8-9"
   ]
  },
  {
   "cell_type": "markdown",
   "metadata": {},
   "source": [
    "## Assemble Sequences"
   ]
  },
  {
   "cell_type": "markdown",
   "metadata": {},
   "source": [
    "Assembly of the sequences are achieved through th program `spades.py`. The command used to run the program is written down below."
   ]
  },
  {
   "cell_type": "markdown",
   "metadata": {},
   "source": [
    "*spades.py -o lab8_9/ -1 /data/Lab8_data/illumina_reads_R1.fastq -2 /data/Lab8_data/illumina_reads_R2.fastq --pacbio /data/Lab8_data/pacbio_reads.fastq -t 1*"
   ]
  },
  {
   "cell_type": "markdown",
   "metadata": {},
   "source": [
    "The program outputed many files, with `contigs.fasta` and `scaffolds.fasta` as the most important two files that will be analyzed below."
   ]
  },
  {
   "cell_type": "markdown",
   "metadata": {},
   "source": [
    "## Generate Assembly Statistics"
   ]
  },
  {
   "cell_type": "markdown",
   "metadata": {},
   "source": [
    "Some general assembly statistics of the `spades.py` assembly can be analyzed through `assembly-stats`, a program solely written to fulfill such purpose to extract these useful statistics from `.fasta` and `.fastq` files. The command used to run the program is written down below:"
   ]
  },
  {
   "cell_type": "markdown",
   "metadata": {},
   "source": [
    "*assembly-stats contigs.fasta scaffolds.fasta*"
   ]
  },
  {
   "cell_type": "markdown",
   "metadata": {},
   "source": [
    "The program outputed some useful information of the contigs and scaffolds exhibited below:"
   ]
  },
  {
   "cell_type": "markdown",
   "metadata": {},
   "source": [
    "__stats for contigs.fasta__\n",
    "\n",
    "sum = 6678635, n = 176, ave = 37946.79, largest = 414008<br>\n",
    "N50 = 234690, n = 11<br>\n",
    "N60 = 202142, n = 14<br>\n",
    "N70 = 154232, n = 18<br>\n",
    "N80 = 103367, n = 23<br>\n",
    "N90 = 81286, n = 30<br>\n",
    "N100 = 128, n = 176<br>\n",
    "N_count = 0<br>\n",
    "Gaps = 0<br>\n",
    "\n",
    "\n",
    "__stats for scaffolds.fasta__\n",
    "\n",
    "sum = 6678655, n = 174, ave = 38383.07, largest = 414008<br>\n",
    "N50 = 234690, n = 11<br>\n",
    "N60 = 202142, n = 14<br>\n",
    "N70 = 154232, n = 18<br>\n",
    "N80 = 103367, n = 23<br>\n",
    "N90 = 81821, n = 30<br>\n",
    "N100 = 128, n = 174<br>\n",
    "N_count = 20<br>\n",
    "Gaps = 2<br>\n"
   ]
  },
  {
   "cell_type": "markdown",
   "metadata": {},
   "source": [
    "*Why is N50 is useful statistic to calculate? Why not just list the mean or median contig length? In your assembly, are scaffolds longer than contigs, or are scaffolds approximately equal to contigs?*\n",
    "\n",
    "N50 is a much better statistic to calculate than mean or median contig length because the distribution of contig lengths is not usually normal. N50 shows that at least half of the nucleotides in the assembly belongs to contigs with the a contig of this N50 length or longer.\n",
    "\n",
    "In my assembly, scaffolds generally are the same length as the contigs."
   ]
  },
  {
   "cell_type": "markdown",
   "metadata": {},
   "source": [
    "## Identify the Taxon from Genome"
   ]
  },
  {
   "cell_type": "markdown",
   "metadata": {},
   "source": [
    "To identify the taxon from the genome assembled, we will identify then extract the 16S ribosomal RNA subunit using the `rna_hmm3.py` and `bedtools get fasta` respectively.The command used to run the program is written down below:"
   ]
  },
  {
   "cell_type": "markdown",
   "metadata": {},
   "source": [
    "*rna_hmm3.py -i contigs.fasta -o hmm3_result.gff -L /data/Lab9_data/HMM3*"
   ]
  },
  {
   "cell_type": "markdown",
   "metadata": {},
   "source": [
    "*bedtools getfasta -fi contigs.fasta -bed hmm3_result.gff -fo 16s_rRna_genes.fasta*"
   ]
  },
  {
   "cell_type": "markdown",
   "metadata": {},
   "source": [
    "These two commands create a fasta file that can be uploaded to the  Ribosomal Database Project’s SeqMatch tool."
   ]
  },
  {
   "cell_type": "markdown",
   "metadata": {},
   "source": [
    "From the SeqMatch result, we can see that out of 20 possible sequences that attempted to align  in the 16S rna database, 6 align to the same genus - pseudomonas. (result see taxon.png)"
   ]
  },
  {
   "cell_type": "markdown",
   "metadata": {},
   "source": [
    "# Genome Annotation"
   ]
  },
  {
   "cell_type": "markdown",
   "metadata": {},
   "source": [
    "To see the detailed annotation of the assembled genome, we would like to upload the `contig.fasta` onto _BASys_ and _RAST_."
   ]
  },
  {
   "cell_type": "markdown",
   "metadata": {},
   "source": [
    "Unfortunately BASys did not work after extensive effort and tries. RAST on the other hand, took 2 days to grant me an account and another 5 hours to run the genome annotation. "
   ]
  },
  {
   "cell_type": "markdown",
   "metadata": {},
   "source": [
    "RAST result is shown in both its own seed server window and downloadable in various form including genbank. The annotated file is uploaded as '287.10111.gbk'."
   ]
  },
  {
   "cell_type": "markdown",
   "metadata": {},
   "source": [
    "## Research and Write-up"
   ]
  },
  {
   "cell_type": "markdown",
   "metadata": {},
   "source": [
    "__Topic: Make an argument for why or why not your bacterium would be considered a human pathogen, using the genome and your research as evidence.__"
   ]
  },
  {
   "cell_type": "markdown",
   "metadata": {},
   "source": [
    "Pseudomonas are a common source of opportunistic infection. It has been associated with a variety of opportunistic infections in humans, including pneumonia, endocarditis, urinary tract infections, wound infections, septicemia, and meningitis. \n",
    "\n",
    "The pathogenesis of pseudomonas are quite straight forward. Like all types of gram-negative bacteria, pseudomonas have the Lipopolysaccharide (LPS), a distinct cell wall component of the outer membrane with the potential structural diversity to mediate specific adherence, which assist with bacteria's survival in the host environment. All species of pseudomonas produce hemolysin, a type of cell lysin that target hemocytes, and various proteases that help degrade host protein and supply nutrient to the bacteria growth.\n",
    "\n",
    "In conclusion, it is evident that pseudomonas are considered a human pathogen. "
   ]
  },
  {
   "cell_type": "markdown",
   "metadata": {},
   "source": [
    "References:<br>\n",
    "    1) https://www.ncbi.nlm.nih.gov/books/NBK8326/ <br>\n",
    "    2) https://www.ncbi.nlm.nih.gov/pubmed/30496396 <br>"
   ]
  },
  {
   "cell_type": "code",
   "execution_count": null,
   "metadata": {},
   "outputs": [],
   "source": []
  }
 ],
 "metadata": {
  "kernelspec": {
   "display_name": "Python 3",
   "language": "python",
   "name": "python3"
  },
  "language_info": {
   "codemirror_mode": {
    "name": "ipython",
    "version": 3
   },
   "file_extension": ".py",
   "mimetype": "text/x-python",
   "name": "python",
   "nbconvert_exporter": "python",
   "pygments_lexer": "ipython3",
   "version": "3.7.3"
  }
 },
 "nbformat": 4,
 "nbformat_minor": 2
}
