{
 "cells": [
  {
   "cell_type": "markdown",
   "metadata": {},
   "source": [
    "# BioE 131 Lab 7"
   ]
  },
  {
   "cell_type": "code",
   "execution_count": 2,
   "metadata": {},
   "outputs": [],
   "source": [
    "#Author: Shirley Zhou"
   ]
  },
  {
   "cell_type": "code",
   "execution_count": 3,
   "metadata": {},
   "outputs": [],
   "source": [
    "import pandas as pd\n",
    "import numpy as np\n",
    "%matplotlib inline\n",
    "import matplotlib.pyplot as plt"
   ]
  },
  {
   "cell_type": "markdown",
   "metadata": {},
   "source": [
    "## Create Randomized Files"
   ]
  },
  {
   "cell_type": "markdown",
   "metadata": {},
   "source": [
    "### Random 0-1 data files"
   ]
  },
  {
   "cell_type": "markdown",
   "metadata": {},
   "source": [
    "First we would like to create random data of 100 megabytes containing 100%, 90%, 80%, 70%, 60%, and 50% zeros. "
   ]
  },
  {
   "cell_type": "code",
   "execution_count": 3,
   "metadata": {},
   "outputs": [
    {
     "data": {
      "text/plain": [
       "100000000"
      ]
     },
     "execution_count": 3,
     "metadata": {},
     "output_type": "execute_result"
    }
   ],
   "source": [
    "rand1_size = 8 * 10**6 * 100\n",
    "rand1_100 = np.random.choice([0, 1], size=rand1_size, \n",
    "                             replace=True, p=[1, 0]) \n",
    "rand1_100 = np.packbits(rand1_100)\n",
    "open(\"zeros_100p\", \"wb\").write(rand1_100)"
   ]
  },
  {
   "cell_type": "code",
   "execution_count": 4,
   "metadata": {},
   "outputs": [
    {
     "data": {
      "text/plain": [
       "100000000"
      ]
     },
     "execution_count": 4,
     "metadata": {},
     "output_type": "execute_result"
    }
   ],
   "source": [
    "rand1_90 = np.random.choice([0, 1], size=rand1_size, \n",
    "                            replace=True, p=[.9, .1]) \n",
    "rand1_90 = np.packbits(rand1_90)\n",
    "open(\"zeros_90p\", \"wb\").write(rand1_90)"
   ]
  },
  {
   "cell_type": "code",
   "execution_count": 5,
   "metadata": {},
   "outputs": [
    {
     "data": {
      "text/plain": [
       "100000000"
      ]
     },
     "execution_count": 5,
     "metadata": {},
     "output_type": "execute_result"
    }
   ],
   "source": [
    "rand1_80 = np.random.choice([0, 1], size=rand1_size, \n",
    "                            replace=True, p=[.8, .2]) \n",
    "rand1_80 = np.packbits(rand1_80)\n",
    "open(\"zeros_80p\", \"wb\").write(rand1_80)"
   ]
  },
  {
   "cell_type": "code",
   "execution_count": 6,
   "metadata": {},
   "outputs": [
    {
     "data": {
      "text/plain": [
       "100000000"
      ]
     },
     "execution_count": 6,
     "metadata": {},
     "output_type": "execute_result"
    }
   ],
   "source": [
    "rand1_70 = np.random.choice([0, 1], size=rand1_size, \n",
    "                            replace=True, p=[.7, .3]) \n",
    "rand1_70 = np.packbits(rand1_70)\n",
    "open(\"zeros_70p\", \"wb\").write(rand1_70)"
   ]
  },
  {
   "cell_type": "code",
   "execution_count": 7,
   "metadata": {},
   "outputs": [
    {
     "data": {
      "text/plain": [
       "100000000"
      ]
     },
     "execution_count": 7,
     "metadata": {},
     "output_type": "execute_result"
    }
   ],
   "source": [
    "rand1_60 = np.random.choice([0, 1], size=rand1_size, \n",
    "                            replace=True, p=[.6, .4]) \n",
    "rand1_60 = np.packbits(rand1_60)\n",
    "open(\"zeros_60p\", \"wb\").write(rand1_60)"
   ]
  },
  {
   "cell_type": "code",
   "execution_count": 8,
   "metadata": {},
   "outputs": [
    {
     "data": {
      "text/plain": [
       "100000000"
      ]
     },
     "execution_count": 8,
     "metadata": {},
     "output_type": "execute_result"
    }
   ],
   "source": [
    "rand1_50 = np.random.choice([0, 1], size=rand1_size, \n",
    "                            replace=True, p=[.5, .5]) \n",
    "rand1_50 = np.packbits(rand1_50)\n",
    "open(\"zeros_50p\", \"wb\").write(rand1_50)"
   ]
  },
  {
   "cell_type": "markdown",
   "metadata": {},
   "source": [
    "### Random DNA and Protein fasta files"
   ]
  },
  {
   "cell_type": "code",
   "execution_count": 4,
   "metadata": {},
   "outputs": [
    {
     "data": {
      "text/plain": [
       "100000000"
      ]
     },
     "execution_count": 4,
     "metadata": {},
     "output_type": "execute_result"
    }
   ],
   "source": [
    "rand1_dna_size = 100 * 10**6\n",
    "rand1_dna = np.random.choice([\"A\", \"C\", \"T\", \"G\"], size=rand1_dna_size, \n",
    "                             replace=True, p=[.25, .25, .25, .25]) \n",
    "open('rand_dna.fa', 'w').write(\"\".join(rand1_dna))"
   ]
  },
  {
   "cell_type": "code",
   "execution_count": 53,
   "metadata": {},
   "outputs": [
    {
     "data": {
      "text/plain": [
       "100000000"
      ]
     },
     "execution_count": 53,
     "metadata": {},
     "output_type": "execute_result"
    }
   ],
   "source": [
    "rand1_aa = np.random.choice([\"A\", \"C\", \"D\", \"E\", \"F\", \"G\", \"H\", \"I\", \"K\", \"L\", \"M\", \"N\", \"P\", \"Q\", \"R\", \n",
    "                             \"S\", \"T\", \"V\", \"W\", \"Y\"], size=rand1_dna_size, \n",
    "                             replace=True, p = np.full(20, 1/20))\n",
    "open('rand_aa.fa', 'w').write(\"\".join(rand1_aa))"
   ]
  },
  {
   "cell_type": "markdown",
   "metadata": {},
   "source": [
    "## Compressing Data"
   ]
  },
  {
   "cell_type": "markdown",
   "metadata": {},
   "source": [
    "􏰀The types of compressing methods used in this lab are:\n",
    "- gzip: Duplicate String Elimination and Bit Reduction\n",
    "- bzip2: Burrows-Wheeler Transform, Run-length encoding (RLE), Bit Reduction with some fancy code selection methods\n",
    "- pbzip2: parallele bzip2\n",
    "\n",
    "The run-time and compressed file size will be compared for each of the randomized files created in the form of a table."
   ]
  },
  {
   "cell_type": "code",
   "execution_count": 55,
   "metadata": {},
   "outputs": [
    {
     "data": {
      "text/html": [
       "<div>\n",
       "<style scoped>\n",
       "    .dataframe tbody tr th:only-of-type {\n",
       "        vertical-align: middle;\n",
       "    }\n",
       "\n",
       "    .dataframe tbody tr th {\n",
       "        vertical-align: top;\n",
       "    }\n",
       "\n",
       "    .dataframe thead th {\n",
       "        text-align: right;\n",
       "    }\n",
       "</style>\n",
       "<table border=\"1\" class=\"dataframe\">\n",
       "  <thead>\n",
       "    <tr style=\"text-align: right;\">\n",
       "      <th></th>\n",
       "      <th>size(B)</th>\n",
       "    </tr>\n",
       "    <tr>\n",
       "      <th>file</th>\n",
       "      <th></th>\n",
       "    </tr>\n",
       "  </thead>\n",
       "  <tbody>\n",
       "    <tr>\n",
       "      <th>zeros_100p</th>\n",
       "      <td>10000000</td>\n",
       "    </tr>\n",
       "    <tr>\n",
       "      <th>zeros_90p</th>\n",
       "      <td>10000000</td>\n",
       "    </tr>\n",
       "    <tr>\n",
       "      <th>zeros_80p</th>\n",
       "      <td>10000000</td>\n",
       "    </tr>\n",
       "    <tr>\n",
       "      <th>zeros_70p</th>\n",
       "      <td>10000000</td>\n",
       "    </tr>\n",
       "    <tr>\n",
       "      <th>zeros_60p</th>\n",
       "      <td>10000000</td>\n",
       "    </tr>\n",
       "    <tr>\n",
       "      <th>zeros_50p</th>\n",
       "      <td>10000000</td>\n",
       "    </tr>\n",
       "    <tr>\n",
       "      <th>rand_dna.fa</th>\n",
       "      <td>10000000</td>\n",
       "    </tr>\n",
       "    <tr>\n",
       "      <th>rand_aa.fa</th>\n",
       "      <td>10000000</td>\n",
       "    </tr>\n",
       "  </tbody>\n",
       "</table>\n",
       "</div>"
      ],
      "text/plain": [
       "              size(B)\n",
       "file                 \n",
       "zeros_100p   10000000\n",
       "zeros_90p    10000000\n",
       "zeros_80p    10000000\n",
       "zeros_70p    10000000\n",
       "zeros_60p    10000000\n",
       "zeros_50p    10000000\n",
       "rand_dna.fa  10000000\n",
       "rand_aa.fa   10000000"
      ]
     },
     "execution_count": 55,
     "metadata": {},
     "output_type": "execute_result"
    }
   ],
   "source": [
    "cmpz_tbl = pd.DataFrame({'file':[\"zeros_100p\", \n",
    "                                 \"zeros_90p\", \n",
    "                                 \"zeros_80p\",\n",
    "                                 \"zeros_70p\", \n",
    "                                 \"zeros_60p\", \n",
    "                                 \"zeros_50p\", \n",
    "                                 \"rand_dna.fa\",\n",
    "                                 \"rand_aa.fa\"], \n",
    "                         \"size(B)\": np.full(8, 10000000)\n",
    "                        })\n",
    "cmpz_tbl= cmpz_tbl.set_index('file')\n",
    "cmpz_tbl"
   ]
  },
  {
   "cell_type": "markdown",
   "metadata": {},
   "source": [
    "### gzip"
   ]
  },
  {
   "cell_type": "code",
   "execution_count": 11,
   "metadata": {},
   "outputs": [
    {
     "name": "stdout",
     "output_type": "stream",
     "text": [
      "\r\n",
      "real\t0m0.593s\r\n",
      "user\t0m0.569s\r\n",
      "sys\t0m0.024s\r\n"
     ]
    }
   ],
   "source": [
    "!time gzip -c zeros_100p > zeros_100p.gz"
   ]
  },
  {
   "cell_type": "code",
   "execution_count": 12,
   "metadata": {},
   "outputs": [
    {
     "name": "stdout",
     "output_type": "stream",
     "text": [
      "\r\n",
      "real\t0m26.407s\r\n",
      "user\t0m26.351s\r\n",
      "sys\t0m0.056s\r\n"
     ]
    }
   ],
   "source": [
    "!time gzip -c zeros_90p > zeros_90p.gz"
   ]
  },
  {
   "cell_type": "code",
   "execution_count": 88,
   "metadata": {},
   "outputs": [],
   "source": [
    "!mv zeros_100p.bz2 zeros_100p_pb.bz2"
   ]
  },
  {
   "cell_type": "code",
   "execution_count": 13,
   "metadata": {},
   "outputs": [
    {
     "name": "stdout",
     "output_type": "stream",
     "text": [
      "\r\n",
      "real\t0m17.039s\r\n",
      "user\t0m16.999s\r\n",
      "sys\t0m0.040s\r\n"
     ]
    }
   ],
   "source": [
    "!time gzip -c zeros_80p > zeros_80p.gz"
   ]
  },
  {
   "cell_type": "code",
   "execution_count": 14,
   "metadata": {},
   "outputs": [
    {
     "name": "stdout",
     "output_type": "stream",
     "text": [
      "\r\n",
      "real\t0m6.958s\r\n",
      "user\t0m6.874s\r\n",
      "sys\t0m0.084s\r\n"
     ]
    }
   ],
   "source": [
    "!time gzip -c zeros_70p > zeros_70p.gz"
   ]
  },
  {
   "cell_type": "code",
   "execution_count": 15,
   "metadata": {},
   "outputs": [
    {
     "name": "stdout",
     "output_type": "stream",
     "text": [
      "\r\n",
      "real\t0m4.324s\r\n",
      "user\t0m4.260s\r\n",
      "sys\t0m0.064s\r\n"
     ]
    }
   ],
   "source": [
    "!time gzip -c zeros_60p > zeros_60p.gz"
   ]
  },
  {
   "cell_type": "code",
   "execution_count": 16,
   "metadata": {},
   "outputs": [
    {
     "name": "stdout",
     "output_type": "stream",
     "text": [
      "\r\n",
      "real\t0m3.473s\r\n",
      "user\t0m3.409s\r\n",
      "sys\t0m0.064s\r\n"
     ]
    }
   ],
   "source": [
    "!time gzip -c zeros_50p > zeros_50p.gz"
   ]
  },
  {
   "cell_type": "code",
   "execution_count": 17,
   "metadata": {},
   "outputs": [
    {
     "name": "stdout",
     "output_type": "stream",
     "text": [
      "\r\n",
      "real\t0m23.588s\r\n",
      "user\t0m23.580s\r\n",
      "sys\t0m0.008s\r\n"
     ]
    }
   ],
   "source": [
    "!time gzip -c rand_dna.fa > rand_dna.gz"
   ]
  },
  {
   "cell_type": "code",
   "execution_count": 56,
   "metadata": {},
   "outputs": [
    {
     "name": "stdout",
     "output_type": "stream",
     "text": [
      "\r\n",
      "real\t0m4.362s\r\n",
      "user\t0m4.309s\r\n",
      "sys\t0m0.052s\r\n"
     ]
    }
   ],
   "source": [
    "!time gzip -c rand_aa.fa > rand_aa.gz"
   ]
  },
  {
   "cell_type": "code",
   "execution_count": 57,
   "metadata": {},
   "outputs": [],
   "source": [
    "cmpz_tbl['gzip size(B)'] = [97.1 * 1e3, \n",
    "                            56 * 1e6, \n",
    "                            77.4 * 1e6, \n",
    "                            89.3 * 1e6, \n",
    "                            97.7 * 1e6, \n",
    "                            100 * 1e6, \n",
    "                            29.2 * 1e6, \n",
    "                            60 * 1e6]\n",
    "cmpz_tbl['gzip time(s)'] = [0.593, \n",
    "                            26.407, \n",
    "                            17.039, \n",
    "                            6.958, \n",
    "                            4.324, \n",
    "                            3.473, \n",
    "                            23.588,\n",
    "                            4.362]"
   ]
  },
  {
   "cell_type": "markdown",
   "metadata": {},
   "source": [
    "### bzip"
   ]
  },
  {
   "cell_type": "code",
   "execution_count": 20,
   "metadata": {},
   "outputs": [
    {
     "name": "stdout",
     "output_type": "stream",
     "text": [
      "\r\n",
      "real\t0m0.882s\r\n",
      "user\t0m0.870s\r\n",
      "sys\t0m0.012s\r\n"
     ]
    }
   ],
   "source": [
    "!time bzip2 -k zeros_100p"
   ]
  },
  {
   "cell_type": "code",
   "execution_count": 21,
   "metadata": {},
   "outputs": [
    {
     "name": "stdout",
     "output_type": "stream",
     "text": [
      "\r\n",
      "real\t0m9.769s\r\n",
      "user\t0m9.689s\r\n",
      "sys\t0m0.080s\r\n"
     ]
    }
   ],
   "source": [
    "!time bzip2 -k zeros_90p"
   ]
  },
  {
   "cell_type": "code",
   "execution_count": 22,
   "metadata": {},
   "outputs": [
    {
     "name": "stdout",
     "output_type": "stream",
     "text": [
      "\r\n",
      "real\t0m10.324s\r\n",
      "user\t0m10.260s\r\n",
      "sys\t0m0.064s\r\n"
     ]
    }
   ],
   "source": [
    "!time bzip2 -k zeros_80p"
   ]
  },
  {
   "cell_type": "code",
   "execution_count": 23,
   "metadata": {},
   "outputs": [
    {
     "name": "stdout",
     "output_type": "stream",
     "text": [
      "\r\n",
      "real\t0m11.060s\r\n",
      "user\t0m10.967s\r\n",
      "sys\t0m0.092s\r\n"
     ]
    }
   ],
   "source": [
    "!time bzip2 -k zeros_70p"
   ]
  },
  {
   "cell_type": "code",
   "execution_count": 24,
   "metadata": {},
   "outputs": [
    {
     "name": "stdout",
     "output_type": "stream",
     "text": [
      "\r\n",
      "real\t0m12.259s\r\n",
      "user\t0m12.173s\r\n",
      "sys\t0m0.084s\r\n"
     ]
    }
   ],
   "source": [
    "!time bzip2 -k zeros_60p"
   ]
  },
  {
   "cell_type": "code",
   "execution_count": 25,
   "metadata": {},
   "outputs": [
    {
     "name": "stdout",
     "output_type": "stream",
     "text": [
      "\r\n",
      "real\t0m12.924s\r\n",
      "user\t0m12.855s\r\n",
      "sys\t0m0.068s\r\n"
     ]
    }
   ],
   "source": [
    "!time bzip2 -k zeros_50p"
   ]
  },
  {
   "cell_type": "code",
   "execution_count": 26,
   "metadata": {},
   "outputs": [
    {
     "name": "stdout",
     "output_type": "stream",
     "text": [
      "\r\n",
      "real\t0m9.541s\r\n",
      "user\t0m9.511s\r\n",
      "sys\t0m0.028s\r\n"
     ]
    }
   ],
   "source": [
    "!time bzip2 -k rand_dna.fa"
   ]
  },
  {
   "cell_type": "code",
   "execution_count": 58,
   "metadata": {},
   "outputs": [
    {
     "name": "stdout",
     "output_type": "stream",
     "text": [
      "\r\n",
      "real\t0m9.877s\r\n",
      "user\t0m9.808s\r\n",
      "sys\t0m0.068s\r\n"
     ]
    }
   ],
   "source": [
    "!time bzip2 -k rand_aa.fa"
   ]
  },
  {
   "cell_type": "code",
   "execution_count": 60,
   "metadata": {},
   "outputs": [],
   "source": [
    "cmpz_tbl['bzip2 size(B)'] = [113, \n",
    "                             58.3 * 1e6, \n",
    "                             82.6 * 1e6, \n",
    "                             95.1 * 1e6, \n",
    "                             100 * 1e6, \n",
    "                             100 * 1e6, \n",
    "                             27.3 * 1e6, \n",
    "                             9.877 * 1e6]\n",
    "cmpz_tbl['bzip2 time(s)'] = [0.882, \n",
    "                             9.769, \n",
    "                             10.324, \n",
    "                             11.060, \n",
    "                             12.259, \n",
    "                             12.924, \n",
    "                             9.541, \n",
    "                             55.2]"
   ]
  },
  {
   "cell_type": "markdown",
   "metadata": {},
   "source": [
    "### pbzip2"
   ]
  },
  {
   "cell_type": "code",
   "execution_count": 28,
   "metadata": {},
   "outputs": [
    {
     "name": "stdout",
     "output_type": "stream",
     "text": [
      "\r\n",
      "real\t0m0.141s\r\n",
      "user\t0m1.798s\r\n",
      "sys\t0m0.057s\r\n"
     ]
    }
   ],
   "source": [
    "!mv zeros_100p.bz2 zeros_100p_b.bz2\n",
    "!time pbzip2 -k -f zeros_100p\n",
    "!mv zeros_100p.bz2 zeros_100p_pb.bz2"
   ]
  },
  {
   "cell_type": "code",
   "execution_count": 29,
   "metadata": {},
   "outputs": [
    {
     "name": "stdout",
     "output_type": "stream",
     "text": [
      "\r\n",
      "real\t0m1.043s\r\n",
      "user\t0m15.411s\r\n",
      "sys\t0m0.528s\r\n"
     ]
    }
   ],
   "source": [
    "!mv zeros_90p.bz2 zeros_90p_b.bz2\n",
    "!time pbzip2 -k -f zeros_90p\n",
    "!mv zeros_90p.bz2 zeros_90p_pb.bz2"
   ]
  },
  {
   "cell_type": "code",
   "execution_count": 30,
   "metadata": {},
   "outputs": [
    {
     "name": "stdout",
     "output_type": "stream",
     "text": [
      "\r\n",
      "real\t0m1.206s\r\n",
      "user\t0m17.884s\r\n",
      "sys\t0m0.605s\r\n"
     ]
    }
   ],
   "source": [
    "!mv zeros_80p.bz2 zeros_80p_b.bz2\n",
    "!time pbzip2 -k zeros_80p\n",
    "!mv zeros_80p.bz2 zeros_80p_pb.bz2"
   ]
  },
  {
   "cell_type": "code",
   "execution_count": 31,
   "metadata": {},
   "outputs": [
    {
     "name": "stdout",
     "output_type": "stream",
     "text": [
      "\r\n",
      "real\t0m1.428s\r\n",
      "user\t0m21.330s\r\n",
      "sys\t0m0.614s\r\n"
     ]
    }
   ],
   "source": [
    "!mv zeros_70p.bz2 zeros_70p_b.bz2\n",
    "!time pbzip2 -k zeros_70p\n",
    "!mv zeros_70p.bz2 zeros_70p_pb.bz2"
   ]
  },
  {
   "cell_type": "code",
   "execution_count": 36,
   "metadata": {},
   "outputs": [
    {
     "name": "stdout",
     "output_type": "stream",
     "text": [
      "\r\n",
      "real\t0m1.717s\r\n",
      "user\t0m25.842s\r\n",
      "sys\t0m0.629s\r\n"
     ]
    }
   ],
   "source": [
    "!mv zeros_60p.bz2 zeros_60p_b.bz2\n",
    "!time pbzip2 -k zeros_60p\n",
    "!mv zeros_60p.bz2 zeros_60p_pb.bz2"
   ]
  },
  {
   "cell_type": "code",
   "execution_count": 37,
   "metadata": {},
   "outputs": [
    {
     "name": "stdout",
     "output_type": "stream",
     "text": [
      "\r\n",
      "real\t0m1.866s\r\n",
      "user\t0m28.274s\r\n",
      "sys\t0m0.578s\r\n"
     ]
    }
   ],
   "source": [
    "!mv zeros_50p.bz2 zeros_50p_b.bz2\n",
    "!time pbzip2 -k zeros_50p\n",
    "!mv zeros_50p.bz2 zeros_50p_pb.bz2"
   ]
  },
  {
   "cell_type": "code",
   "execution_count": 38,
   "metadata": {},
   "outputs": [
    {
     "name": "stdout",
     "output_type": "stream",
     "text": [
      "\r\n",
      "real\t0m1.015s\r\n",
      "user\t0m14.827s\r\n",
      "sys\t0m0.490s\r\n"
     ]
    }
   ],
   "source": [
    "!mv rand_dna.fa.bz2 rand_dna.fa_b.bz2\n",
    "!time pbzip2 -k rand_dna.fa\n",
    "!mv rand_dna.fa.bz2 rand_dna.fa_pb.bz2"
   ]
  },
  {
   "cell_type": "code",
   "execution_count": 61,
   "metadata": {},
   "outputs": [
    {
     "name": "stdout",
     "output_type": "stream",
     "text": [
      "\r\n",
      "real\t0m1.317s\r\n",
      "user\t0m14.362s\r\n",
      "sys\t0m0.550s\r\n"
     ]
    }
   ],
   "source": [
    "!mv rand_aa.fa.bz2 rand_aa.fa_b.bz2\n",
    "!time pbzip2 -k rand_aa.fa\n",
    "!mv rand_aa.fa.bz2 rand_aa.fa_pb.bz2"
   ]
  },
  {
   "cell_type": "code",
   "execution_count": 62,
   "metadata": {},
   "outputs": [],
   "source": [
    "cmpz_tbl['pbzip2 size(B)'] = [53.8 * 1e3,\n",
    "                              58.3 * 1e6, \n",
    "                              82.6 * 1e6, \n",
    "                              95.1 * 1e6, \n",
    "                              100 * 1e6, \n",
    "                              100 * 1e6, \n",
    "                              27.3 * 1e6, \n",
    "                              55.3 * 1e6]\n",
    "cmpz_tbl['pbzip2 time(s)'] = [0.139, \n",
    "                              1.043, \n",
    "                              1.197, \n",
    "                              1.428, \n",
    "                              1.717, \n",
    "                              1.866, \n",
    "                              1.015, \n",
    "                              1.317]\n",
    "cmpz_tbl['pbzip2 time(s) - user'] = [1.798, \n",
    "                                     15.411, \n",
    "                                     17.884,\n",
    "                                     21.330,\n",
    "                                     25.842, \n",
    "                                     28.274,\n",
    "                                     14.827, \n",
    "                                     14.362]"
   ]
  },
  {
   "cell_type": "code",
   "execution_count": 63,
   "metadata": {},
   "outputs": [
    {
     "data": {
      "text/html": [
       "<div>\n",
       "<style scoped>\n",
       "    .dataframe tbody tr th:only-of-type {\n",
       "        vertical-align: middle;\n",
       "    }\n",
       "\n",
       "    .dataframe tbody tr th {\n",
       "        vertical-align: top;\n",
       "    }\n",
       "\n",
       "    .dataframe thead th {\n",
       "        text-align: right;\n",
       "    }\n",
       "</style>\n",
       "<table border=\"1\" class=\"dataframe\">\n",
       "  <thead>\n",
       "    <tr style=\"text-align: right;\">\n",
       "      <th></th>\n",
       "      <th>size(B)</th>\n",
       "      <th>gzip size(B)</th>\n",
       "      <th>gzip time(s)</th>\n",
       "      <th>bzip2 size(B)</th>\n",
       "      <th>bzip2 time(s)</th>\n",
       "      <th>pbzip2 size(B)</th>\n",
       "      <th>pbzip2 time(s)</th>\n",
       "      <th>pbzip2 time(s) - user</th>\n",
       "    </tr>\n",
       "    <tr>\n",
       "      <th>file</th>\n",
       "      <th></th>\n",
       "      <th></th>\n",
       "      <th></th>\n",
       "      <th></th>\n",
       "      <th></th>\n",
       "      <th></th>\n",
       "      <th></th>\n",
       "      <th></th>\n",
       "    </tr>\n",
       "  </thead>\n",
       "  <tbody>\n",
       "    <tr>\n",
       "      <th>zeros_100p</th>\n",
       "      <td>10000000</td>\n",
       "      <td>97100.0</td>\n",
       "      <td>0.593</td>\n",
       "      <td>113.0</td>\n",
       "      <td>0.882</td>\n",
       "      <td>53800.0</td>\n",
       "      <td>0.139</td>\n",
       "      <td>1.798</td>\n",
       "    </tr>\n",
       "    <tr>\n",
       "      <th>zeros_90p</th>\n",
       "      <td>10000000</td>\n",
       "      <td>56000000.0</td>\n",
       "      <td>26.407</td>\n",
       "      <td>58300000.0</td>\n",
       "      <td>9.769</td>\n",
       "      <td>58300000.0</td>\n",
       "      <td>1.043</td>\n",
       "      <td>15.411</td>\n",
       "    </tr>\n",
       "    <tr>\n",
       "      <th>zeros_80p</th>\n",
       "      <td>10000000</td>\n",
       "      <td>77400000.0</td>\n",
       "      <td>17.039</td>\n",
       "      <td>82600000.0</td>\n",
       "      <td>10.324</td>\n",
       "      <td>82600000.0</td>\n",
       "      <td>1.197</td>\n",
       "      <td>17.884</td>\n",
       "    </tr>\n",
       "    <tr>\n",
       "      <th>zeros_70p</th>\n",
       "      <td>10000000</td>\n",
       "      <td>89300000.0</td>\n",
       "      <td>6.958</td>\n",
       "      <td>95100000.0</td>\n",
       "      <td>11.060</td>\n",
       "      <td>95100000.0</td>\n",
       "      <td>1.428</td>\n",
       "      <td>21.330</td>\n",
       "    </tr>\n",
       "    <tr>\n",
       "      <th>zeros_60p</th>\n",
       "      <td>10000000</td>\n",
       "      <td>97700000.0</td>\n",
       "      <td>4.324</td>\n",
       "      <td>100000000.0</td>\n",
       "      <td>12.259</td>\n",
       "      <td>100000000.0</td>\n",
       "      <td>1.717</td>\n",
       "      <td>25.842</td>\n",
       "    </tr>\n",
       "    <tr>\n",
       "      <th>zeros_50p</th>\n",
       "      <td>10000000</td>\n",
       "      <td>100000000.0</td>\n",
       "      <td>3.473</td>\n",
       "      <td>100000000.0</td>\n",
       "      <td>12.924</td>\n",
       "      <td>100000000.0</td>\n",
       "      <td>1.866</td>\n",
       "      <td>28.274</td>\n",
       "    </tr>\n",
       "    <tr>\n",
       "      <th>rand_dna.fa</th>\n",
       "      <td>10000000</td>\n",
       "      <td>29200000.0</td>\n",
       "      <td>23.588</td>\n",
       "      <td>27300000.0</td>\n",
       "      <td>9.541</td>\n",
       "      <td>27300000.0</td>\n",
       "      <td>1.015</td>\n",
       "      <td>14.827</td>\n",
       "    </tr>\n",
       "    <tr>\n",
       "      <th>rand_aa.fa</th>\n",
       "      <td>10000000</td>\n",
       "      <td>60000000.0</td>\n",
       "      <td>4.362</td>\n",
       "      <td>9877000.0</td>\n",
       "      <td>55.200</td>\n",
       "      <td>55300000.0</td>\n",
       "      <td>1.317</td>\n",
       "      <td>14.362</td>\n",
       "    </tr>\n",
       "  </tbody>\n",
       "</table>\n",
       "</div>"
      ],
      "text/plain": [
       "              size(B)  gzip size(B)  gzip time(s)  bzip2 size(B)  \\\n",
       "file                                                               \n",
       "zeros_100p   10000000       97100.0         0.593          113.0   \n",
       "zeros_90p    10000000    56000000.0        26.407     58300000.0   \n",
       "zeros_80p    10000000    77400000.0        17.039     82600000.0   \n",
       "zeros_70p    10000000    89300000.0         6.958     95100000.0   \n",
       "zeros_60p    10000000    97700000.0         4.324    100000000.0   \n",
       "zeros_50p    10000000   100000000.0         3.473    100000000.0   \n",
       "rand_dna.fa  10000000    29200000.0        23.588     27300000.0   \n",
       "rand_aa.fa   10000000    60000000.0         4.362      9877000.0   \n",
       "\n",
       "             bzip2 time(s)  pbzip2 size(B)  pbzip2 time(s)  \\\n",
       "file                                                         \n",
       "zeros_100p           0.882         53800.0           0.139   \n",
       "zeros_90p            9.769      58300000.0           1.043   \n",
       "zeros_80p           10.324      82600000.0           1.197   \n",
       "zeros_70p           11.060      95100000.0           1.428   \n",
       "zeros_60p           12.259     100000000.0           1.717   \n",
       "zeros_50p           12.924     100000000.0           1.866   \n",
       "rand_dna.fa          9.541      27300000.0           1.015   \n",
       "rand_aa.fa          55.200      55300000.0           1.317   \n",
       "\n",
       "             pbzip2 time(s) - user  \n",
       "file                                \n",
       "zeros_100p                   1.798  \n",
       "zeros_90p                   15.411  \n",
       "zeros_80p                   17.884  \n",
       "zeros_70p                   21.330  \n",
       "zeros_60p                   25.842  \n",
       "zeros_50p                   28.274  \n",
       "rand_dna.fa                 14.827  \n",
       "rand_aa.fa                  14.362  "
      ]
     },
     "execution_count": 63,
     "metadata": {},
     "output_type": "execute_result"
    }
   ],
   "source": [
    "cmpz_tbl"
   ]
  },
  {
   "cell_type": "markdown",
   "metadata": {},
   "source": [
    "## Questions to Answer"
   ]
  },
  {
   "cell_type": "markdown",
   "metadata": {},
   "source": [
    "1. __Which algorithm achieves the best level of compression on each file type?__\n",
    "\n",
    "    _Answer: `bzip2` and `pbzip2` achieve the best level of compression for the __fasta file__; `bzip2` achieves the best level of compression for the 100 percent zero data; `gzip` achieves the best level of compression for the rest of the different percent zero data_"
   ]
  },
  {
   "cell_type": "markdown",
   "metadata": {},
   "source": [
    "2. **Which algorithm is the fastest?**\n",
    "\n",
    "    *Answer: __pbzip2__ achieves shortest system time for all data type.*"
   ]
  },
  {
   "cell_type": "markdown",
   "metadata": {},
   "source": [
    "3. **What is the difference between `bzip2` and `pbzip2`? Do you expect one to be faster and why?** \n",
    "\n",
    "    *Answer: Both methods make Burrows-Wheeler Transform, Run-length encoding (RLE), Bit Reduction, hence they achieve same level of compression of each file type. However, `pbzip2` is a modified version of `bzip2` that supports multi-threading and achieves linear speed. Thus `pbzip2` is expected to be much faster.*"
   ]
  },
  {
   "cell_type": "markdown",
   "metadata": {},
   "source": [
    "4. **How does the level of compression change as the percentage of zeros increases? Why does this happen?** \n",
    "\n",
    "    *Answer: As the percentage of zeros increases, the level of compression decreases (compressed files size increase). This happens because there are much more randomness in the file (less number of consecutive zeros).*"
   ]
  },
  {
   "cell_type": "markdown",
   "metadata": {},
   "source": [
    "5. **What is the minimum number of bits required to store a single DNA base?**\n",
    "\n",
    "    *Answer: The minimum number of bits required to store a single DNA base is 2*"
   ]
  },
  {
   "cell_type": "markdown",
   "metadata": {},
   "source": [
    "6. **What is the minimum number of bits required to store an amino acid letter?**<br>\n",
    "\n",
    "    *Answer: The minimum number of bits required to store an animo acid letter is 5*"
   ]
  },
  {
   "cell_type": "markdown",
   "metadata": {},
   "source": [
    "7. **In your tests, how many bits did `gzip` and `bzip2` actually require to store your random DNA and protein sequences?**\n",
    "\n",
    "    *Answer: `gzip` requires only 29.2 MB for the 100M DNA sequence and only 60 MB for the 100M protein sequence. On the other hand, `bzip2` requires only 27.3 MB for the 100M DNA sequence and only 55.2 MB for the 100M protein sequence.*"
   ]
  },
  {
   "cell_type": "markdown",
   "metadata": {},
   "source": [
    "8. **Are `gzip` and `bzip2` performing well on DNA and proteins?**\n",
    "\n",
    "    *Anwswer: `gzip` and `bzip2` performed well on DNA and proteins, with `bzip2` performing a little better."
   ]
  },
  {
   "cell_type": "markdown",
   "metadata": {},
   "source": [
    "## Compressing real data"
   ]
  },
  {
   "cell_type": "markdown",
   "metadata": {},
   "source": [
    "Find the top 10 results for gp120 gene of different HIV strains using `Bio.Entrez`."
   ]
  },
  {
   "cell_type": "code",
   "execution_count": 6,
   "metadata": {},
   "outputs": [],
   "source": [
    "from Bio import Entrez"
   ]
  },
  {
   "cell_type": "code",
   "execution_count": 8,
   "metadata": {},
   "outputs": [],
   "source": [
    "Entrez.email = 'shirleyzhou428@berkeley.edu'\n",
    "search_term = 'gp120'\n",
    "handle = Entrez.esearch(db = \"nucleotide\",\n",
    "                        term = search_term, \n",
    "                        sort = 'relevance',\n",
    "                        idtype = 'acc',\n",
    "                        retmax = 10)\n",
    "id_list = Entrez.read(handle)['IdList']"
   ]
  },
  {
   "cell_type": "code",
   "execution_count": 13,
   "metadata": {},
   "outputs": [
    {
     "data": {
      "text/plain": [
       "7342"
      ]
     },
     "execution_count": 13,
     "metadata": {},
     "output_type": "execute_result"
    }
   ],
   "source": [
    "records = []\n",
    "for entry in id_list:  \n",
    "    result = Entrez.efetch(db='nucleotide', id=entry, rettype='fasta', retmode = 'text')\n",
    "    records.append(result.read())\n",
    "open('gp120_top10.fa', 'w').write(\"\".join(records))"
   ]
  },
  {
   "cell_type": "markdown",
   "metadata": {},
   "source": [
    "I expect the compression ratio to be about the same as the random sequence, because the compression scheme used in `gzip` and `bzip2` are not specifically for optimizing multiple sequence alignments (like CIGAR in sam format)."
   ]
  },
  {
   "cell_type": "code",
   "execution_count": 14,
   "metadata": {},
   "outputs": [
    {
     "name": "stdout",
     "output_type": "stream",
     "text": [
      "\r\n",
      "real\t0m0.002s\r\n",
      "user\t0m0.001s\r\n",
      "sys\t0m0.000s\r\n"
     ]
    }
   ],
   "source": [
    "!time gzip -c gp120_top10.fa > gp120_top10.gz"
   ]
  },
  {
   "cell_type": "code",
   "execution_count": 15,
   "metadata": {},
   "outputs": [
    {
     "name": "stdout",
     "output_type": "stream",
     "text": [
      "\r\n",
      "real\t0m0.002s\r\n",
      "user\t0m0.002s\r\n",
      "sys\t0m0.000s\r\n"
     ]
    }
   ],
   "source": [
    "!time bzip2 -k gp120_top10.fa"
   ]
  },
  {
   "cell_type": "markdown",
   "metadata": {},
   "source": [
    "The result shows that the compression ratio is about 27%, similar to that of the random sequence."
   ]
  },
  {
   "cell_type": "markdown",
   "metadata": {},
   "source": [
    "## Estimating compression of 1000 terabytes"
   ]
  },
  {
   "cell_type": "markdown",
   "metadata": {},
   "source": [
    "**Re-sequencing of Genomes and Plasmids Data**\n",
    "    \n",
    "For this type of data, CIGAR string would be the best compression algorithm if the sequences are very similar to each other and have chunks of parts of sequences that overlap within the group. **Given this assumption**, we could split the genomes and plasmids into very closely related groups, and create a CIGAR string for each member of the group according the index sequence generated according to their alignment. We should expect about 80-90% reduction of data space or higher - if the genomes are highly correlated for multiple big chunks within the sequences - with this algorithm, which will translate to about 64% - 72% reduction to overall space.\n",
    "\n",
    "If the sequences are not very similar to each other and have small chunks of sequence that overlap (like 3-5 bp overlap), then CIGAR would not be very efficient because it is run-length encoded. **Given this assumption**, we could treat them as regular nucleotide sequences and use `bzip2` or `gzip` which gives about 72% of space reduction and translate to about 58% of overall space.\n",
    "\n",
    "**Protein Sequences**\n",
    "\n",
    "For this type of data, `bzip2` or `gzip` are pretty good algorithms and can reduce about 72% of the space, which translate to about 7% of overall space.\n",
    "\n",
    "**Binary Microscope Images**\n",
    "\n",
    "For this type of data, assume they are at worst-case scenario of being completely random, no space can be reduced using either algorithm.\n",
    "\n",
    "**Final Calculation**\n",
    "\n",
    "*if Re-sequencing of Genomes/Plasmids have big chunks of overlap* <br>\n",
    "Overall space reduction would be about 70%-80%, giving at least 500 * 75 * 365 = 13,687,500 dollars of bonus each year!<br>\n",
    "\n",
    "*if Re-sequencing of Genomes/Plasmids have only small chunks of overlap* <br>\n",
    "Overall space reduction would be about 65%, giving 500 * 65 * 365  = 11,862,500 dollars of bonus each year."
   ]
  },
  {
   "cell_type": "code",
   "execution_count": null,
   "metadata": {},
   "outputs": [],
   "source": []
  }
 ],
 "metadata": {
  "kernelspec": {
   "display_name": "Python 3",
   "language": "python",
   "name": "python3"
  },
  "language_info": {
   "codemirror_mode": {
    "name": "ipython",
    "version": 3
   },
   "file_extension": ".py",
   "mimetype": "text/x-python",
   "name": "python",
   "nbconvert_exporter": "python",
   "pygments_lexer": "ipython3",
   "version": "3.7.3"
  }
 },
 "nbformat": 4,
 "nbformat_minor": 2
}
