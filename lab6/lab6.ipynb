{
 "cells": [
  {
   "cell_type": "markdown",
   "metadata": {},
   "source": [
    "\n",
    "# BioE 131 Lab 6"
   ]
  },
  {
   "cell_type": "code",
   "execution_count": 1,
   "metadata": {},
   "outputs": [],
   "source": [
    "#Author: Shirley Zhou"
   ]
  },
  {
   "cell_type": "code",
   "execution_count": 23,
   "metadata": {},
   "outputs": [],
   "source": [
    "import pandas as pd\n",
    "import numpy as np\n",
    "import subprocess\n",
    "%matplotlib inline\n",
    "import matplotlib.pyplot as plt"
   ]
  },
  {
   "cell_type": "markdown",
   "metadata": {},
   "source": [
    "## Alignment"
   ]
  },
  {
   "cell_type": "markdown",
   "metadata": {},
   "source": [
    "### Align with Human Genome"
   ]
  },
  {
   "cell_type": "markdown",
   "metadata": {},
   "source": [
    "Apply the original reads through `bowtie2` to align with human genome and see how much of the reads are contaminated."
   ]
  },
  {
   "cell_type": "code",
   "execution_count": 4,
   "metadata": {},
   "outputs": [
    {
     "name": "stdout",
     "output_type": "stream",
     "text": [
      "1285441 reads; of these:\r\n",
      "  1285441 (100.00%) were paired; of these:\r\n",
      "    1285105 (99.97%) aligned concordantly 0 times\r\n",
      "    114 (0.01%) aligned concordantly exactly 1 time\r\n",
      "    222 (0.02%) aligned concordantly >1 times\r\n",
      "    ----\r\n",
      "    1285105 pairs aligned concordantly 0 times; of these:\r\n",
      "      227762 (17.72%) aligned discordantly 1 time\r\n",
      "    ----\r\n",
      "    1057343 pairs aligned 0 times concordantly or discordantly; of these:\r\n",
      "      2114686 mates make up the pairs; of these:\r\n",
      "        2062758 (97.54%) aligned 0 times\r\n",
      "        15162 (0.72%) aligned exactly 1 time\r\n",
      "        36766 (1.74%) aligned >1 times\r\n",
      "19.76% overall alignment rate\r\n"
     ]
    }
   ],
   "source": [
    "!bowtie2 -p 4 --very-fast --no-unal -x ../../../../../data/references/hg19/hg19 -1 ../../../../data/Lab6_data/mixed_reads1.fastq -2 ../../../../data/Lab6_data/mixed_reads2.fastq -S output.sam --un-conc unaligned.fastq"
   ]
  },
  {
   "cell_type": "markdown",
   "metadata": {},
   "source": [
    "From the `bowtie2` output, we can tell that there is about 20% of the reads that aligned to the human genome (and hence could be the source of contamination."
   ]
  },
  {
   "cell_type": "markdown",
   "metadata": {},
   "source": [
    "### Align with Bacterial Genome (S. oneidensis MR-1)"
   ]
  },
  {
   "cell_type": "markdown",
   "metadata": {},
   "source": [
    "Apply the __unaligned__ output from the previous alignment through `bowtie2` again to align with __S. oneidensis MR-1__ genome and see how much of the reads actually align to our genome of interest."
   ]
  },
  {
   "cell_type": "code",
   "execution_count": 9,
   "metadata": {},
   "outputs": [
    {
     "name": "stdout",
     "output_type": "stream",
     "text": [
      "1285105 reads; of these:\r\n",
      "  1285105 (100.00%) were paired; of these:\r\n",
      "    1049640 (81.68%) aligned concordantly 0 times\r\n",
      "    220987 (17.20%) aligned concordantly exactly 1 time\r\n",
      "    14478 (1.13%) aligned concordantly >1 times\r\n",
      "    ----\r\n",
      "    1049640 pairs aligned concordantly 0 times; of these:\r\n",
      "      288853 (27.52%) aligned discordantly 1 time\r\n",
      "    ----\r\n",
      "    760787 pairs aligned 0 times concordantly or discordantly; of these:\r\n",
      "      1521574 mates make up the pairs; of these:\r\n",
      "        1245335 (81.85%) aligned 0 times\r\n",
      "        221076 (14.53%) aligned exactly 1 time\r\n",
      "        55163 (3.63%) aligned >1 times\r\n",
      "51.55% overall alignment rate\r\n"
     ]
    }
   ],
   "source": [
    "!bowtie2 -p 4 --very-fast --no-unal -x ../../../../../data/references/shewanella_oneidensis_mr-1/shewanella_oneidensis_mr-1 -1 unaligned.1.fastq -2 unaligned.2.fastq -S output_s1.sam"
   ]
  },
  {
   "cell_type": "markdown",
   "metadata": {},
   "source": [
    "## Convertion"
   ]
  },
  {
   "cell_type": "markdown",
   "metadata": {},
   "source": [
    "### `Samtool`"
   ]
  },
  {
   "cell_type": "markdown",
   "metadata": {},
   "source": [
    "Convert .sam to .bam"
   ]
  },
  {
   "cell_type": "code",
   "execution_count": 10,
   "metadata": {},
   "outputs": [],
   "source": [
    "!samtools view -b output_s1.sam > output_s1.bam"
   ]
  },
  {
   "cell_type": "markdown",
   "metadata": {},
   "source": [
    "Sort the .bam"
   ]
  },
  {
   "cell_type": "code",
   "execution_count": 11,
   "metadata": {},
   "outputs": [],
   "source": [
    "!samtools sort output_s1.bam > output_s1_sorted.bam"
   ]
  },
  {
   "cell_type": "markdown",
   "metadata": {},
   "source": [
    "Index the .bam"
   ]
  },
  {
   "cell_type": "code",
   "execution_count": 12,
   "metadata": {},
   "outputs": [],
   "source": [
    "!samtools index output_s1_sorted.bam"
   ]
  },
  {
   "cell_type": "markdown",
   "metadata": {},
   "source": [
    "Output a .tab file with the depth of coverage for every position in the reference genome"
   ]
  },
  {
   "cell_type": "code",
   "execution_count": 13,
   "metadata": {},
   "outputs": [],
   "source": [
    "!samtools depth -a output_s1_sorted.bam > s1_depth.tab"
   ]
  },
  {
   "cell_type": "markdown",
   "metadata": {},
   "source": [
    "## Visualization "
   ]
  },
  {
   "cell_type": "code",
   "execution_count": 35,
   "metadata": {},
   "outputs": [],
   "source": [
    "table_s1 = pd.read_csv('s1_depth.tab', sep='\\t', header = None).drop([0], axis = 1)\n",
    "table_s1.columns = ['Genome Position (bp)', 'Depth of Coverage']"
   ]
  },
  {
   "cell_type": "code",
   "execution_count": 38,
   "metadata": {},
   "outputs": [
    {
     "data": {
      "image/png": "[encoded data removed]",
      "text/plain": [
       "<Figure size 432x288 with 1 Axes>"
      ]
     },
     "metadata": {
      "needs_background": "light"
     },
     "output_type": "display_data"
    }
   ],
   "source": [
    "plt.plot(table_s1['Genome Position (bp)'], table_s1['Depth of Coverage'], 'ro')\n",
    "plt.xlabel('Position in Genome')\n",
    "plt.ylabel('Depth of Coverage')\n",
    "plt.title('Coverage Depth through Genome of S. oneidensis MR-1')\n",
    "plt.show()"
   ]
  },
  {
   "cell_type": "code",
   "execution_count": 39,
   "metadata": {},
   "outputs": [
    {
     "data": {
      "image/png": "[encoded data removed]",
      "text/plain": [
       "<Figure size 432x288 with 1 Axes>"
      ]
     },
     "metadata": {
      "needs_background": "light"
     },
     "output_type": "display_data"
    }
   ],
   "source": [
    "plt.hist(table_s1['Depth of Coverage'], bins = 40)\n",
    "plt.ylabel('Count')\n",
    "plt.xlabel('Depth of Coverage')\n",
    "plt.title('Distribution of Coverage Depth')\n",
    "plt.show()"
   ]
  },
  {
   "cell_type": "code",
   "execution_count": null,
   "metadata": {},
   "outputs": [],
   "source": []
  }
 ],
 "metadata": {
  "kernelspec": {
   "display_name": "Python 3",
   "language": "python",
   "name": "python3"
  },
  "language_info": {
   "codemirror_mode": {
    "name": "ipython",
    "version": 3
   },
   "file_extension": ".py",
   "mimetype": "text/x-python",
   "name": "python",
   "nbconvert_exporter": "python",
   "pygments_lexer": "ipython3",
   "version": "3.7.3"
  }
 },
 "nbformat": 4,
 "nbformat_minor": 2
}
